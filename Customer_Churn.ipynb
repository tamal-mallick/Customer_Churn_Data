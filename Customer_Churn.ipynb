{
  "nbformat": 4,
  "nbformat_minor": 0,
  "metadata": {
    "colab": {
      "name": "Assignment 6.ipynb",
      "provenance": [],
      "collapsed_sections": [],
      "include_colab_link": true
    },
    "kernelspec": {
      "name": "python3",
      "display_name": "Python 3"
    }
  },
  "cells": [
    {
      "cell_type": "markdown",
      "metadata": {
        "id": "view-in-github",
        "colab_type": "text"
      },
      "source": [
        "<a href=\"https://colab.research.google.com/github/tamal-mallick/Customer_Churn_Data/blob/main/Customer_Churn.ipynb\" target=\"_parent\"><img src=\"https://colab.research.google.com/assets/colab-badge.svg\" alt=\"Open In Colab\"/></a>"
      ]
    },
    {
      "cell_type": "code",
      "metadata": {
        "id": "QcwQ5hdHdllC",
        "colab": {
          "base_uri": "https://localhost:8080/"
        },
        "outputId": "b087c06a-5fba-4f52-efd4-57d64cc6e17f"
      },
      "source": [
        "  !pip install vecstack"
      ],
      "execution_count": null,
      "outputs": [
        {
          "output_type": "stream",
          "text": [
            "Requirement already satisfied: vecstack in /usr/local/lib/python3.6/dist-packages (0.4.0)\n",
            "Requirement already satisfied: scipy in /usr/local/lib/python3.6/dist-packages (from vecstack) (1.4.1)\n",
            "Requirement already satisfied: scikit-learn>=0.18 in /usr/local/lib/python3.6/dist-packages (from vecstack) (0.22.2.post1)\n",
            "Requirement already satisfied: numpy in /usr/local/lib/python3.6/dist-packages (from vecstack) (1.18.5)\n",
            "Requirement already satisfied: joblib>=0.11 in /usr/local/lib/python3.6/dist-packages (from scikit-learn>=0.18->vecstack) (0.17.0)\n"
          ],
          "name": "stdout"
        }
      ]
    },
    {
      "cell_type": "code",
      "metadata": {
        "id": "eQqGDszCfMbu"
      },
      "source": [
        "from vecstack import stacking\n",
        "import pandas as pd\n",
        "import numpy as np\n",
        "# import classifiers\n",
        "from sklearn.ensemble import RandomForestClassifier, GradientBoostingClassifier\n",
        "from sklearn.neural_network import MLPClassifier\n",
        "from sklearn.tree import DecisionTreeClassifier\n",
        "from sklearn.model_selection import RandomizedSearchCV\n",
        "from sklearn.linear_model import LogisticRegression\n",
        "from sklearn.metrics import plot_confusion_matrix\n",
        "from mlxtend.plotting import plot_confusion_matrix\n",
        "# import various scoring methods \n",
        "from sklearn.model_selection import cross_val_score\n",
        "from sklearn.metrics import classification_report, confusion_matrix, accuracy_score, roc_auc_score, f1_score, recall_score, precision_score\n",
        "\n",
        "from sklearn.preprocessing import OneHotEncoder\n",
        "import warnings\n",
        "warnings.filterwarnings(\"ignore\")"
      ],
      "execution_count": null,
      "outputs": []
    },
    {
      "cell_type": "code",
      "metadata": {
        "id": "mc4OLFOj6su4",
        "colab": {
          "base_uri": "https://localhost:8080/"
        },
        "outputId": "6cc216f8-5162-471e-951f-ed135699057a"
      },
      "source": [
        "# To upload our datasets from our working directory we need to mount our drive contents to the colab environment. \n",
        "\n",
        "from google.colab import drive\n",
        "drive.mount('/gdrive')\n",
        "#Change current working directory to gdrive\n",
        "%cd /gdrive\n"
      ],
      "execution_count": null,
      "outputs": [
        {
          "output_type": "stream",
          "text": [
            "Drive already mounted at /gdrive; to attempt to forcibly remount, call drive.mount(\"/gdrive\", force_remount=True).\n",
            "/gdrive\n"
          ],
          "name": "stdout"
        }
      ]
    },
    {
      "cell_type": "code",
      "metadata": {
        "id": "1vyZX66TfUTt"
      },
      "source": [
        "\n",
        "\n",
        "trainfile = r'/gdrive/My Drive/ASU_MSBA/CIS_508/Individual Assignment 6/Churn-Train-2.csv'\n",
        "train_data = pd.read_csv(trainfile)\n",
        "\n",
        "testfile = r'/gdrive/My Drive/ASU_MSBA/CIS_508/Individual Assignment 6/Churn-Test-2.csv'\n",
        "test_data = pd.read_csv(testfile)\n",
        "\n",
        "\n"
      ],
      "execution_count": null,
      "outputs": []
    },
    {
      "cell_type": "code",
      "metadata": {
        "id": "_VUhuQx6OhDU",
        "colab": {
          "base_uri": "https://localhost:8080/"
        },
        "outputId": "e61d7d52-60e0-4458-d75c-30323edd6817"
      },
      "source": [
        "print(train_data.shape)\n",
        "print(train_data.head()) \n",
        "\n",
        "print(test_data.shape)\n",
        "print(test_data.head())"
      ],
      "execution_count": null,
      "outputs": [
        {
          "output_type": "stream",
          "text": [
            "(1165, 20)\n",
            "  State  Account Length  Area Code  ... Intl Charge CustServ Calls  TARGET\n",
            "0    KS             128        415  ...        2.70              1       0\n",
            "1    OH             107        415  ...        3.70              1       0\n",
            "2    NJ             137        415  ...        3.29              0       0\n",
            "3    OH              84        408  ...        1.78              2       0\n",
            "4    OK              75        415  ...        2.73              3       0\n",
            "\n",
            "[5 rows x 20 columns]\n",
            "(1261, 20)\n",
            "  State  Account Length  Area Code  ... Intl Charge CustServ Calls  TARGET\n",
            "0    VT              50        415  ...        2.16              0       0\n",
            "1    UT              72        415  ...        3.29              3       0\n",
            "2    KS             130        510  ...        3.48              1       0\n",
            "3    NV             143        408  ...        2.05              1       0\n",
            "4    DE              89        510  ...        1.46              1       0\n",
            "\n",
            "[5 rows x 20 columns]\n"
          ],
          "name": "stdout"
        }
      ]
    },
    {
      "cell_type": "code",
      "metadata": {
        "colab": {
          "base_uri": "https://localhost:8080/"
        },
        "id": "9t0fXwWEMEkZ",
        "outputId": "badc3878-c894-4962-a307-a03e4405a768"
      },
      "source": [
        "#Extract target train data\n",
        "y_train = train_data[\"TARGET\"]\n",
        "X_train = train_data.drop(columns=[\"TARGET\"]) #extracting training data without the target column\n",
        "                \n",
        "print(X_train.shape)\n",
        "print(y_train.shape)"
      ],
      "execution_count": null,
      "outputs": [
        {
          "output_type": "stream",
          "text": [
            "(1165, 19)\n",
            "(1165,)\n"
          ],
          "name": "stdout"
        }
      ]
    },
    {
      "cell_type": "code",
      "metadata": {
        "colab": {
          "base_uri": "https://localhost:8080/"
        },
        "id": "vKImqtGeMcnW",
        "outputId": "0fda278e-a0fa-46bc-8c80-443efb495cee"
      },
      "source": [
        "#Extract target column from train data\n",
        "y_test = test_data[\"TARGET\"]\n",
        "X_test = test_data.drop(columns=[\"TARGET\"]) #extracting test data without the target column\n",
        "                     \n",
        "print(X_test.shape)\n",
        "print(y_test.shape)"
      ],
      "execution_count": null,
      "outputs": [
        {
          "output_type": "stream",
          "text": [
            "(1261, 19)\n",
            "(1261,)\n"
          ],
          "name": "stdout"
        }
      ]
    },
    {
      "cell_type": "code",
      "metadata": {
        "colab": {
          "base_uri": "https://localhost:8080/"
        },
        "id": "5FeS0QC3NOTJ",
        "outputId": "0d38852c-5527-4d47-a365-767b693e5836"
      },
      "source": [
        "#Combine Train and test for one Hot Encoding\n",
        "combined_Data = pd.concat([X_train,X_test], keys=[0,1])\n",
        "cat_cols = combined_Data.select_dtypes(exclude=['float','int']).columns #selecting the categorical columns\n",
        "print(train_cat_cols.shape)\n",
        "print(train_cat_cols)"
      ],
      "execution_count": null,
      "outputs": [
        {
          "output_type": "stream",
          "text": [
            "(3,)\n",
            "Index(['State', 'Int'l Plan', 'VMail Plan'], dtype='object')\n"
          ],
          "name": "stdout"
        }
      ]
    },
    {
      "cell_type": "code",
      "metadata": {
        "colab": {
          "base_uri": "https://localhost:8080/",
          "height": 232
        },
        "id": "IDPnm08eLwqn",
        "outputId": "5a004f5c-1a67-4085-ee3f-ed0bcd6e1154"
      },
      "source": [
        "\n",
        "# OneHotEncoding is to be done on Categorical variables.\n",
        "ohe = OneHotEncoder(handle_unknown='ignore',sparse=False)\n",
        "Combined_Cat = pd.DataFrame(ohe.fit_transform(combined_Data[cat_cols]),columns=ohe.get_feature_names(),index=combined_Data.index)\n",
        "combined_Data_2 = pd.concat([combined_Data,Combined_Cat],axis=1)\n",
        "combined_Data_2.drop(labels=cat_cols,axis=1,inplace=True)\n",
        "combined_Data_2.sample(5)"
      ],
      "execution_count": null,
      "outputs": [
        {
          "output_type": "execute_result",
          "data": {
            "text/html": [
              "<div>\n",
              "<style scoped>\n",
              "    .dataframe tbody tr th:only-of-type {\n",
              "        vertical-align: middle;\n",
              "    }\n",
              "\n",
              "    .dataframe tbody tr th {\n",
              "        vertical-align: top;\n",
              "    }\n",
              "\n",
              "    .dataframe thead th {\n",
              "        text-align: right;\n",
              "    }\n",
              "</style>\n",
              "<table border=\"1\" class=\"dataframe\">\n",
              "  <thead>\n",
              "    <tr style=\"text-align: right;\">\n",
              "      <th></th>\n",
              "      <th></th>\n",
              "      <th>Account Length</th>\n",
              "      <th>Area Code</th>\n",
              "      <th>VMail Message</th>\n",
              "      <th>Day Mins</th>\n",
              "      <th>Day Calls</th>\n",
              "      <th>Day Charge</th>\n",
              "      <th>Eve Mins</th>\n",
              "      <th>Eve Calls</th>\n",
              "      <th>Eve Charge</th>\n",
              "      <th>Night Mins</th>\n",
              "      <th>Night Calls</th>\n",
              "      <th>Night Charge</th>\n",
              "      <th>Intl Mins</th>\n",
              "      <th>Intl Calls</th>\n",
              "      <th>Intl Charge</th>\n",
              "      <th>CustServ Calls</th>\n",
              "      <th>x0_AK</th>\n",
              "      <th>x0_AL</th>\n",
              "      <th>x0_AR</th>\n",
              "      <th>x0_AZ</th>\n",
              "      <th>x0_CA</th>\n",
              "      <th>x0_CO</th>\n",
              "      <th>x0_CT</th>\n",
              "      <th>x0_DC</th>\n",
              "      <th>x0_DE</th>\n",
              "      <th>x0_FL</th>\n",
              "      <th>x0_GA</th>\n",
              "      <th>x0_HI</th>\n",
              "      <th>x0_IA</th>\n",
              "      <th>x0_ID</th>\n",
              "      <th>x0_IL</th>\n",
              "      <th>x0_IN</th>\n",
              "      <th>x0_KS</th>\n",
              "      <th>x0_KY</th>\n",
              "      <th>x0_LA</th>\n",
              "      <th>x0_MA</th>\n",
              "      <th>x0_MD</th>\n",
              "      <th>x0_ME</th>\n",
              "      <th>x0_MI</th>\n",
              "      <th>x0_MN</th>\n",
              "      <th>x0_MO</th>\n",
              "      <th>x0_MS</th>\n",
              "      <th>x0_MT</th>\n",
              "      <th>x0_NC</th>\n",
              "      <th>x0_ND</th>\n",
              "      <th>x0_NE</th>\n",
              "      <th>x0_NH</th>\n",
              "      <th>x0_NJ</th>\n",
              "      <th>x0_NM</th>\n",
              "      <th>x0_NV</th>\n",
              "      <th>x0_NY</th>\n",
              "      <th>x0_OH</th>\n",
              "      <th>x0_OK</th>\n",
              "      <th>x0_OR</th>\n",
              "      <th>x0_PA</th>\n",
              "      <th>x0_RI</th>\n",
              "      <th>x0_SC</th>\n",
              "      <th>x0_SD</th>\n",
              "      <th>x0_TN</th>\n",
              "      <th>x0_TX</th>\n",
              "      <th>x0_UT</th>\n",
              "      <th>x0_VA</th>\n",
              "      <th>x0_VT</th>\n",
              "      <th>x0_WA</th>\n",
              "      <th>x0_WI</th>\n",
              "      <th>x0_WV</th>\n",
              "      <th>x0_WY</th>\n",
              "      <th>x1_no</th>\n",
              "      <th>x1_yes</th>\n",
              "      <th>x2_no</th>\n",
              "      <th>x2_yes</th>\n",
              "    </tr>\n",
              "  </thead>\n",
              "  <tbody>\n",
              "    <tr>\n",
              "      <th rowspan=\"4\" valign=\"top\">1</th>\n",
              "      <th>743</th>\n",
              "      <td>88</td>\n",
              "      <td>408</td>\n",
              "      <td>45</td>\n",
              "      <td>80.3</td>\n",
              "      <td>140</td>\n",
              "      <td>13.65</td>\n",
              "      <td>153.3</td>\n",
              "      <td>101</td>\n",
              "      <td>13.03</td>\n",
              "      <td>309.2</td>\n",
              "      <td>123</td>\n",
              "      <td>13.91</td>\n",
              "      <td>12.8</td>\n",
              "      <td>3</td>\n",
              "      <td>3.46</td>\n",
              "      <td>2</td>\n",
              "      <td>0.0</td>\n",
              "      <td>0.0</td>\n",
              "      <td>0.0</td>\n",
              "      <td>0.0</td>\n",
              "      <td>0.0</td>\n",
              "      <td>0.0</td>\n",
              "      <td>0.0</td>\n",
              "      <td>0.0</td>\n",
              "      <td>0.0</td>\n",
              "      <td>0.0</td>\n",
              "      <td>0.0</td>\n",
              "      <td>0.0</td>\n",
              "      <td>0.0</td>\n",
              "      <td>0.0</td>\n",
              "      <td>0.0</td>\n",
              "      <td>0.0</td>\n",
              "      <td>0.0</td>\n",
              "      <td>0.0</td>\n",
              "      <td>0.0</td>\n",
              "      <td>1.0</td>\n",
              "      <td>0.0</td>\n",
              "      <td>0.0</td>\n",
              "      <td>0.0</td>\n",
              "      <td>0.0</td>\n",
              "      <td>0.0</td>\n",
              "      <td>0.0</td>\n",
              "      <td>0.0</td>\n",
              "      <td>0.0</td>\n",
              "      <td>0.0</td>\n",
              "      <td>0.0</td>\n",
              "      <td>0.0</td>\n",
              "      <td>0.0</td>\n",
              "      <td>0.0</td>\n",
              "      <td>0.0</td>\n",
              "      <td>0.0</td>\n",
              "      <td>0.0</td>\n",
              "      <td>0.0</td>\n",
              "      <td>0.0</td>\n",
              "      <td>0.0</td>\n",
              "      <td>0.0</td>\n",
              "      <td>0.0</td>\n",
              "      <td>0.0</td>\n",
              "      <td>0.0</td>\n",
              "      <td>0.0</td>\n",
              "      <td>0.0</td>\n",
              "      <td>0.0</td>\n",
              "      <td>0.0</td>\n",
              "      <td>0.0</td>\n",
              "      <td>0.0</td>\n",
              "      <td>0.0</td>\n",
              "      <td>0.0</td>\n",
              "      <td>1.0</td>\n",
              "      <td>0.0</td>\n",
              "      <td>0.0</td>\n",
              "      <td>1.0</td>\n",
              "    </tr>\n",
              "    <tr>\n",
              "      <th>908</th>\n",
              "      <td>140</td>\n",
              "      <td>415</td>\n",
              "      <td>0</td>\n",
              "      <td>160.5</td>\n",
              "      <td>114</td>\n",
              "      <td>27.29</td>\n",
              "      <td>240.5</td>\n",
              "      <td>103</td>\n",
              "      <td>20.44</td>\n",
              "      <td>233.5</td>\n",
              "      <td>121</td>\n",
              "      <td>10.51</td>\n",
              "      <td>11.3</td>\n",
              "      <td>4</td>\n",
              "      <td>3.05</td>\n",
              "      <td>1</td>\n",
              "      <td>0.0</td>\n",
              "      <td>0.0</td>\n",
              "      <td>0.0</td>\n",
              "      <td>0.0</td>\n",
              "      <td>0.0</td>\n",
              "      <td>0.0</td>\n",
              "      <td>0.0</td>\n",
              "      <td>0.0</td>\n",
              "      <td>0.0</td>\n",
              "      <td>0.0</td>\n",
              "      <td>0.0</td>\n",
              "      <td>0.0</td>\n",
              "      <td>0.0</td>\n",
              "      <td>0.0</td>\n",
              "      <td>0.0</td>\n",
              "      <td>1.0</td>\n",
              "      <td>0.0</td>\n",
              "      <td>0.0</td>\n",
              "      <td>0.0</td>\n",
              "      <td>0.0</td>\n",
              "      <td>0.0</td>\n",
              "      <td>0.0</td>\n",
              "      <td>0.0</td>\n",
              "      <td>0.0</td>\n",
              "      <td>0.0</td>\n",
              "      <td>0.0</td>\n",
              "      <td>0.0</td>\n",
              "      <td>0.0</td>\n",
              "      <td>0.0</td>\n",
              "      <td>0.0</td>\n",
              "      <td>0.0</td>\n",
              "      <td>0.0</td>\n",
              "      <td>0.0</td>\n",
              "      <td>0.0</td>\n",
              "      <td>0.0</td>\n",
              "      <td>0.0</td>\n",
              "      <td>0.0</td>\n",
              "      <td>0.0</td>\n",
              "      <td>0.0</td>\n",
              "      <td>0.0</td>\n",
              "      <td>0.0</td>\n",
              "      <td>0.0</td>\n",
              "      <td>0.0</td>\n",
              "      <td>0.0</td>\n",
              "      <td>0.0</td>\n",
              "      <td>0.0</td>\n",
              "      <td>0.0</td>\n",
              "      <td>0.0</td>\n",
              "      <td>0.0</td>\n",
              "      <td>0.0</td>\n",
              "      <td>0.0</td>\n",
              "      <td>1.0</td>\n",
              "      <td>0.0</td>\n",
              "      <td>1.0</td>\n",
              "      <td>0.0</td>\n",
              "    </tr>\n",
              "    <tr>\n",
              "      <th>1116</th>\n",
              "      <td>107</td>\n",
              "      <td>415</td>\n",
              "      <td>38</td>\n",
              "      <td>204.2</td>\n",
              "      <td>57</td>\n",
              "      <td>34.71</td>\n",
              "      <td>205.9</td>\n",
              "      <td>92</td>\n",
              "      <td>17.50</td>\n",
              "      <td>286.5</td>\n",
              "      <td>80</td>\n",
              "      <td>12.89</td>\n",
              "      <td>8.3</td>\n",
              "      <td>4</td>\n",
              "      <td>2.24</td>\n",
              "      <td>0</td>\n",
              "      <td>0.0</td>\n",
              "      <td>0.0</td>\n",
              "      <td>0.0</td>\n",
              "      <td>0.0</td>\n",
              "      <td>0.0</td>\n",
              "      <td>0.0</td>\n",
              "      <td>0.0</td>\n",
              "      <td>0.0</td>\n",
              "      <td>0.0</td>\n",
              "      <td>0.0</td>\n",
              "      <td>0.0</td>\n",
              "      <td>0.0</td>\n",
              "      <td>0.0</td>\n",
              "      <td>0.0</td>\n",
              "      <td>0.0</td>\n",
              "      <td>0.0</td>\n",
              "      <td>0.0</td>\n",
              "      <td>0.0</td>\n",
              "      <td>0.0</td>\n",
              "      <td>0.0</td>\n",
              "      <td>0.0</td>\n",
              "      <td>0.0</td>\n",
              "      <td>0.0</td>\n",
              "      <td>0.0</td>\n",
              "      <td>0.0</td>\n",
              "      <td>0.0</td>\n",
              "      <td>0.0</td>\n",
              "      <td>1.0</td>\n",
              "      <td>0.0</td>\n",
              "      <td>0.0</td>\n",
              "      <td>0.0</td>\n",
              "      <td>0.0</td>\n",
              "      <td>0.0</td>\n",
              "      <td>0.0</td>\n",
              "      <td>0.0</td>\n",
              "      <td>0.0</td>\n",
              "      <td>0.0</td>\n",
              "      <td>0.0</td>\n",
              "      <td>0.0</td>\n",
              "      <td>0.0</td>\n",
              "      <td>0.0</td>\n",
              "      <td>0.0</td>\n",
              "      <td>0.0</td>\n",
              "      <td>0.0</td>\n",
              "      <td>0.0</td>\n",
              "      <td>0.0</td>\n",
              "      <td>0.0</td>\n",
              "      <td>0.0</td>\n",
              "      <td>0.0</td>\n",
              "      <td>0.0</td>\n",
              "      <td>0.0</td>\n",
              "      <td>1.0</td>\n",
              "      <td>0.0</td>\n",
              "      <td>0.0</td>\n",
              "      <td>1.0</td>\n",
              "    </tr>\n",
              "    <tr>\n",
              "      <th>361</th>\n",
              "      <td>155</td>\n",
              "      <td>415</td>\n",
              "      <td>23</td>\n",
              "      <td>243.9</td>\n",
              "      <td>112</td>\n",
              "      <td>41.46</td>\n",
              "      <td>133.0</td>\n",
              "      <td>106</td>\n",
              "      <td>11.31</td>\n",
              "      <td>213.7</td>\n",
              "      <td>123</td>\n",
              "      <td>9.62</td>\n",
              "      <td>13.4</td>\n",
              "      <td>11</td>\n",
              "      <td>3.62</td>\n",
              "      <td>2</td>\n",
              "      <td>0.0</td>\n",
              "      <td>0.0</td>\n",
              "      <td>0.0</td>\n",
              "      <td>0.0</td>\n",
              "      <td>0.0</td>\n",
              "      <td>0.0</td>\n",
              "      <td>0.0</td>\n",
              "      <td>0.0</td>\n",
              "      <td>0.0</td>\n",
              "      <td>0.0</td>\n",
              "      <td>0.0</td>\n",
              "      <td>0.0</td>\n",
              "      <td>0.0</td>\n",
              "      <td>0.0</td>\n",
              "      <td>0.0</td>\n",
              "      <td>0.0</td>\n",
              "      <td>0.0</td>\n",
              "      <td>0.0</td>\n",
              "      <td>0.0</td>\n",
              "      <td>0.0</td>\n",
              "      <td>0.0</td>\n",
              "      <td>0.0</td>\n",
              "      <td>0.0</td>\n",
              "      <td>0.0</td>\n",
              "      <td>0.0</td>\n",
              "      <td>0.0</td>\n",
              "      <td>0.0</td>\n",
              "      <td>0.0</td>\n",
              "      <td>0.0</td>\n",
              "      <td>0.0</td>\n",
              "      <td>0.0</td>\n",
              "      <td>0.0</td>\n",
              "      <td>0.0</td>\n",
              "      <td>0.0</td>\n",
              "      <td>0.0</td>\n",
              "      <td>0.0</td>\n",
              "      <td>1.0</td>\n",
              "      <td>0.0</td>\n",
              "      <td>0.0</td>\n",
              "      <td>0.0</td>\n",
              "      <td>0.0</td>\n",
              "      <td>0.0</td>\n",
              "      <td>0.0</td>\n",
              "      <td>0.0</td>\n",
              "      <td>0.0</td>\n",
              "      <td>0.0</td>\n",
              "      <td>0.0</td>\n",
              "      <td>0.0</td>\n",
              "      <td>0.0</td>\n",
              "      <td>0.0</td>\n",
              "      <td>0.0</td>\n",
              "      <td>1.0</td>\n",
              "      <td>0.0</td>\n",
              "      <td>0.0</td>\n",
              "      <td>1.0</td>\n",
              "    </tr>\n",
              "    <tr>\n",
              "      <th>0</th>\n",
              "      <th>97</th>\n",
              "      <td>99</td>\n",
              "      <td>415</td>\n",
              "      <td>0</td>\n",
              "      <td>198.2</td>\n",
              "      <td>87</td>\n",
              "      <td>33.69</td>\n",
              "      <td>207.3</td>\n",
              "      <td>76</td>\n",
              "      <td>17.62</td>\n",
              "      <td>190.9</td>\n",
              "      <td>113</td>\n",
              "      <td>8.59</td>\n",
              "      <td>8.7</td>\n",
              "      <td>3</td>\n",
              "      <td>2.35</td>\n",
              "      <td>4</td>\n",
              "      <td>0.0</td>\n",
              "      <td>0.0</td>\n",
              "      <td>0.0</td>\n",
              "      <td>1.0</td>\n",
              "      <td>0.0</td>\n",
              "      <td>0.0</td>\n",
              "      <td>0.0</td>\n",
              "      <td>0.0</td>\n",
              "      <td>0.0</td>\n",
              "      <td>0.0</td>\n",
              "      <td>0.0</td>\n",
              "      <td>0.0</td>\n",
              "      <td>0.0</td>\n",
              "      <td>0.0</td>\n",
              "      <td>0.0</td>\n",
              "      <td>0.0</td>\n",
              "      <td>0.0</td>\n",
              "      <td>0.0</td>\n",
              "      <td>0.0</td>\n",
              "      <td>0.0</td>\n",
              "      <td>0.0</td>\n",
              "      <td>0.0</td>\n",
              "      <td>0.0</td>\n",
              "      <td>0.0</td>\n",
              "      <td>0.0</td>\n",
              "      <td>0.0</td>\n",
              "      <td>0.0</td>\n",
              "      <td>0.0</td>\n",
              "      <td>0.0</td>\n",
              "      <td>0.0</td>\n",
              "      <td>0.0</td>\n",
              "      <td>0.0</td>\n",
              "      <td>0.0</td>\n",
              "      <td>0.0</td>\n",
              "      <td>0.0</td>\n",
              "      <td>0.0</td>\n",
              "      <td>0.0</td>\n",
              "      <td>0.0</td>\n",
              "      <td>0.0</td>\n",
              "      <td>0.0</td>\n",
              "      <td>0.0</td>\n",
              "      <td>0.0</td>\n",
              "      <td>0.0</td>\n",
              "      <td>0.0</td>\n",
              "      <td>0.0</td>\n",
              "      <td>0.0</td>\n",
              "      <td>0.0</td>\n",
              "      <td>0.0</td>\n",
              "      <td>0.0</td>\n",
              "      <td>0.0</td>\n",
              "      <td>0.0</td>\n",
              "      <td>1.0</td>\n",
              "      <td>0.0</td>\n",
              "      <td>1.0</td>\n",
              "      <td>0.0</td>\n",
              "    </tr>\n",
              "  </tbody>\n",
              "</table>\n",
              "</div>"
            ],
            "text/plain": [
              "        Account Length  Area Code  VMail Message  ...  x1_yes  x2_no  x2_yes\n",
              "1 743               88        408             45  ...     0.0    0.0     1.0\n",
              "  908              140        415              0  ...     0.0    1.0     0.0\n",
              "  1116             107        415             38  ...     0.0    0.0     1.0\n",
              "  361              155        415             23  ...     0.0    0.0     1.0\n",
              "0 97                99        415              0  ...     0.0    1.0     0.0\n",
              "\n",
              "[5 rows x 71 columns]"
            ]
          },
          "metadata": {
            "tags": []
          },
          "execution_count": 190
        }
      ]
    },
    {
      "cell_type": "code",
      "metadata": {
        "id": "zPYT5J6EuSEV",
        "colab": {
          "base_uri": "https://localhost:8080/"
        },
        "outputId": "13f216cd-6ee5-49f6-daa5-9a84fb9fb59c"
      },
      "source": [
        "train_data.isnull().sum()\n",
        "test_data.isnull().sum()"
      ],
      "execution_count": null,
      "outputs": [
        {
          "output_type": "execute_result",
          "data": {
            "text/plain": [
              "State             0\n",
              "Account Length    0\n",
              "Area Code         0\n",
              "Int'l Plan        0\n",
              "VMail Plan        0\n",
              "VMail Message     0\n",
              "Day Mins          0\n",
              "Day Calls         0\n",
              "Day Charge        0\n",
              "Eve Mins          0\n",
              "Eve Calls         0\n",
              "Eve Charge        0\n",
              "Night Mins        0\n",
              "Night Calls       0\n",
              "Night Charge      0\n",
              "Intl Mins         0\n",
              "Intl Calls        0\n",
              "Intl Charge       0\n",
              "CustServ Calls    0\n",
              "TARGET            0\n",
              "dtype: int64"
            ]
          },
          "metadata": {
            "tags": []
          },
          "execution_count": 204
        }
      ]
    },
    {
      "cell_type": "code",
      "metadata": {
        "id": "CYBC5GnuQfIx"
      },
      "source": [
        "X_train = combined_Data_2.xs(0)\n",
        "X_test = combined_Data_2.xs(1)"
      ],
      "execution_count": null,
      "outputs": []
    },
    {
      "cell_type": "code",
      "metadata": {
        "colab": {
          "base_uri": "https://localhost:8080/"
        },
        "id": "cX3ZbYJdTEmb",
        "outputId": "c178b478-f2bc-4ced-a4f6-23cdd06bc8e8"
      },
      "source": [
        "print(X_test.shape)\n",
        "print(X_train.shape)"
      ],
      "execution_count": null,
      "outputs": [
        {
          "output_type": "stream",
          "text": [
            "(1261, 71)\n",
            "(1165, 71)\n"
          ],
          "name": "stdout"
        }
      ]
    },
    {
      "cell_type": "code",
      "metadata": {
        "id": "WrzAP3QksJBW"
      },
      "source": [
        "models_metrics = []"
      ],
      "execution_count": null,
      "outputs": []
    },
    {
      "cell_type": "code",
      "metadata": {
        "id": "ouSzZTRsfnqO",
        "colab": {
          "base_uri": "https://localhost:8080/",
          "height": 649
        },
        "outputId": "63a85989-5adb-4ad2-a5f9-a9df88d78cbf"
      },
      "source": [
        "#CONSTRUCT DEFAULT DECISION TREE AND OBTAIN RESPECTIVE ACCURACY ==================\n",
        "clf = DecisionTreeClassifier()\n",
        "clf.fit(X_train, y_train)\n",
        "clf_predict=clf.predict(X_test)\n",
        "\n",
        "models_metrics.append([\"DT\", accuracy_score(y_test,clf_predict), f1_score(y_test,clf_predict),roc_auc_score(y_test,clf_predict), recall_score(y_test,clf_predict), precision_score(y_test,clf_predict)])\n",
        "print(\"Accuracy score (test): {0:.6f}\".format(clf.score(X_test,y_test)))\n",
        "print(\"All Accuracy Scores\")\n",
        "print(\"Confusion Matrix:\")\n",
        "print(confusion_matrix( y_test,clf_predict))\n",
        "print(\"Classification Report\")\n",
        "print(classification_report(y_test, clf_predict))\n",
        "print(\"AUC_Score-\", roc_auc_score(y_test, clf_predict))\n",
        "print('\\n')\n",
        "print('\\n')\n",
        "\n",
        "plot_confusion_matrix(confusion_matrix(y_test,clf_predict), cmap='Paired')"
      ],
      "execution_count": null,
      "outputs": [
        {
          "output_type": "stream",
          "text": [
            "Accuracy score (test): 0.907216\n",
            "All Accuracy Scores\n",
            "Confusion Matrix:\n",
            "[[1023   46]\n",
            " [  71  121]]\n",
            "Classification Report\n",
            "              precision    recall  f1-score   support\n",
            "\n",
            "           0       0.94      0.96      0.95      1069\n",
            "           1       0.72      0.63      0.67       192\n",
            "\n",
            "    accuracy                           0.91      1261\n",
            "   macro avg       0.83      0.79      0.81      1261\n",
            "weighted avg       0.90      0.91      0.90      1261\n",
            "\n",
            "AUC_Score- 0.7935887316806985\n",
            "\n",
            "\n",
            "\n",
            "\n"
          ],
          "name": "stdout"
        },
        {
          "output_type": "execute_result",
          "data": {
            "text/plain": [
              "(<Figure size 432x288 with 1 Axes>,\n",
              " <matplotlib.axes._subplots.AxesSubplot at 0x7ff72a89a898>)"
            ]
          },
          "metadata": {
            "tags": []
          },
          "execution_count": 195
        },
        {
          "output_type": "display_data",
          "data": {
            "image/png": "[encoded data removed]",
            "text/plain": [
              "<Figure size 432x288 with 1 Axes>"
            ]
          },
          "metadata": {
            "tags": [],
            "needs_background": "light"
          }
        }
      ]
    },
    {
      "cell_type": "code",
      "metadata": {
        "colab": {
          "base_uri": "https://localhost:8080/",
          "height": 649
        },
        "id": "eKHPljcaURLr",
        "outputId": "7d0c0206-1494-4c13-f8dd-33e318b46642"
      },
      "source": [
        "#CONSTRUCT DEFAULT Multi Layer Perceptron AND OBTAIN RESPECTIVE ACCURACY ==================\n",
        "clf = MLPClassifier()\n",
        "clf.fit(X_train, y_train)\n",
        "clf_predict=clf.predict(X_test)\n",
        "\n",
        "models_metrics.append([\"MLP\", accuracy_score(y_test,clf_predict), f1_score(y_test,clf_predict),roc_auc_score(y_test,clf_predict), recall_score(y_test,clf_predict), precision_score(y_test,clf_predict)])\n",
        "print(\"Accuracy score (test): {0:.6f}\".format(clf.score(X_test,y_test)))\n",
        "print(\"All Accuracy Scores\")\n",
        "print(\"Confusion Matrix:\")\n",
        "print(confusion_matrix( y_test,clf_predict))\n",
        "print(\"Classification Report\")\n",
        "print(classification_report(y_test, clf_predict))\n",
        "print(\"AUC_Score-\", roc_auc_score(y_test, clf_predict))\n",
        "print('\\n')\n",
        "print('\\n')\n",
        "\n",
        "plot_confusion_matrix(confusion_matrix(y_test,clf_predict), cmap='Paired')"
      ],
      "execution_count": null,
      "outputs": [
        {
          "output_type": "stream",
          "text": [
            "Accuracy score (test): 0.865979\n",
            "All Accuracy Scores\n",
            "Confusion Matrix:\n",
            "[[1048   21]\n",
            " [ 148   44]]\n",
            "Classification Report\n",
            "              precision    recall  f1-score   support\n",
            "\n",
            "           0       0.88      0.98      0.93      1069\n",
            "           1       0.68      0.23      0.34       192\n",
            "\n",
            "    accuracy                           0.87      1261\n",
            "   macro avg       0.78      0.60      0.63      1261\n",
            "weighted avg       0.85      0.87      0.84      1261\n",
            "\n",
            "AUC_Score- 0.6047610695353913\n",
            "\n",
            "\n",
            "\n",
            "\n"
          ],
          "name": "stdout"
        },
        {
          "output_type": "execute_result",
          "data": {
            "text/plain": [
              "(<Figure size 432x288 with 1 Axes>,\n",
              " <matplotlib.axes._subplots.AxesSubplot at 0x7ff72a9b5470>)"
            ]
          },
          "metadata": {
            "tags": []
          },
          "execution_count": 196
        },
        {
          "output_type": "display_data",
          "data": {
            "image/png": "[encoded data removed]",
            "text/plain": [
              "<Figure size 432x288 with 1 Axes>"
            ]
          },
          "metadata": {
            "tags": [],
            "needs_background": "light"
          }
        }
      ]
    },
    {
      "cell_type": "code",
      "metadata": {
        "colab": {
          "base_uri": "https://localhost:8080/",
          "height": 649
        },
        "id": "YmwpourCZ6oG",
        "outputId": "dacd7165-b980-49ae-d81f-201a871c5011"
      },
      "source": [
        "#CONSTRUCT DEFAULT RANDOM FOREST CLASSIFIER AND OBTAIN RESPECTIVE ACCURACY ==================\n",
        "clf = RandomForestClassifier()\n",
        "clf.fit(X_train, y_train)\n",
        "clf_predict=clf.predict(X_test)\n",
        "\n",
        "models_metrics.append([\"RF\", accuracy_score(y_test,clf_predict), f1_score(y_test,clf_predict),roc_auc_score(y_test,clf_predict), recall_score(y_test,clf_predict), precision_score(y_test,clf_predict)])\n",
        "print(\"Accuracy score (test): {0:.6f}\".format(clf.score(X_test,y_test)))\n",
        "print(\"All Accuracy Scores\")\n",
        "print(\"Confusion Matrix:\")\n",
        "print(confusion_matrix( y_test,clf_predict))\n",
        "print(\"Classification Report\")\n",
        "print(classification_report(y_test, clf_predict))\n",
        "print(\"AUC_Score-\", roc_auc_score(y_test, clf_predict))\n",
        "print('\\n')\n",
        "print('\\n')\n",
        "\n",
        "plot_confusion_matrix(confusion_matrix(y_test,clf_predict), cmap='Paired')"
      ],
      "execution_count": null,
      "outputs": [
        {
          "output_type": "stream",
          "text": [
            "Accuracy score (test): 0.911975\n",
            "All Accuracy Scores\n",
            "Confusion Matrix:\n",
            "[[1068    1]\n",
            " [ 110   82]]\n",
            "Classification Report\n",
            "              precision    recall  f1-score   support\n",
            "\n",
            "           0       0.91      1.00      0.95      1069\n",
            "           1       0.99      0.43      0.60       192\n",
            "\n",
            "    accuracy                           0.91      1261\n",
            "   macro avg       0.95      0.71      0.77      1261\n",
            "weighted avg       0.92      0.91      0.90      1261\n",
            "\n",
            "AUC_Score- 0.7130739398191456\n",
            "\n",
            "\n",
            "\n",
            "\n"
          ],
          "name": "stdout"
        },
        {
          "output_type": "execute_result",
          "data": {
            "text/plain": [
              "(<Figure size 432x288 with 1 Axes>,\n",
              " <matplotlib.axes._subplots.AxesSubplot at 0x7ff72dd834e0>)"
            ]
          },
          "metadata": {
            "tags": []
          },
          "execution_count": 197
        },
        {
          "output_type": "display_data",
          "data": {
            "image/png": "[encoded data removed]",
            "text/plain": [
              "<Figure size 432x288 with 1 Axes>"
            ]
          },
          "metadata": {
            "tags": [],
            "needs_background": "light"
          }
        }
      ]
    },
    {
      "cell_type": "code",
      "metadata": {
        "colab": {
          "base_uri": "https://localhost:8080/",
          "height": 649
        },
        "id": "uO5zGpF9aTrF",
        "outputId": "b879a72d-38b3-4f8e-a01a-f084683d1729"
      },
      "source": [
        "#CONSTRUCT DEFAULT GRADIENT BOOSTING CLASSIFIER AND OBTAIN RESPECTIVE ACCURACY ==================\n",
        "\n",
        "clf = GradientBoostingClassifier()\n",
        "clf.fit(X_train, y_train)\n",
        "clf_predict=clf.predict(X_test)\n",
        "\n",
        "models_metrics.append([\"GB\", accuracy_score(y_test,clf_predict), f1_score(y_test,clf_predict),roc_auc_score(y_test,clf_predict), recall_score(y_test,clf_predict), precision_score(y_test,clf_predict)])\n",
        "print(\"Accuracy score (test): {0:.6f}\".format(clf.score(X_test,y_test)))\n",
        "print(\"All Accuracy Scores\")\n",
        "print(\"Confusion Matrix:\")\n",
        "print(confusion_matrix( y_test,clf_predict))\n",
        "print(\"Classification Report\")\n",
        "print(classification_report(y_test, clf_predict))\n",
        "print(\"AUC_Score-\", roc_auc_score(y_test, clf_predict))\n",
        "print('\\n')\n",
        "print('\\n')\n",
        "\n",
        "plot_confusion_matrix(confusion_matrix(y_test,clf_predict), cmap='Paired')"
      ],
      "execution_count": null,
      "outputs": [
        {
          "output_type": "stream",
          "text": [
            "Accuracy score (test): 0.927042\n",
            "All Accuracy Scores\n",
            "Confusion Matrix:\n",
            "[[1056   13]\n",
            " [  79  113]]\n",
            "Classification Report\n",
            "              precision    recall  f1-score   support\n",
            "\n",
            "           0       0.93      0.99      0.96      1069\n",
            "           1       0.90      0.59      0.71       192\n",
            "\n",
            "    accuracy                           0.93      1261\n",
            "   macro avg       0.91      0.79      0.83      1261\n",
            "weighted avg       0.93      0.93      0.92      1261\n",
            "\n",
            "AUC_Score- 0.7881903843155597\n",
            "\n",
            "\n",
            "\n",
            "\n"
          ],
          "name": "stdout"
        },
        {
          "output_type": "execute_result",
          "data": {
            "text/plain": [
              "(<Figure size 432x288 with 1 Axes>,\n",
              " <matplotlib.axes._subplots.AxesSubplot at 0x7ff72dd677b8>)"
            ]
          },
          "metadata": {
            "tags": []
          },
          "execution_count": 198
        },
        {
          "output_type": "display_data",
          "data": {
            "image/png": "[encoded data removed]",
            "text/plain": [
              "<Figure size 432x288 with 1 Axes>"
            ]
          },
          "metadata": {
            "tags": [],
            "needs_background": "light"
          }
        }
      ]
    },
    {
      "cell_type": "code",
      "metadata": {
        "id": "nW12HH9qh9rQ",
        "colab": {
          "base_uri": "https://localhost:8080/"
        },
        "outputId": "f0f4eac5-51b1-4e33-92fa-614b198af500"
      },
      "source": [
        "#STACKING MODELS =====================================================================\n",
        "print(\"___________________________________________________________________________________________\\nEnsemble Methods Predictions using GradientBoosting, KNeighborsClassifier, LogisticRegression RandomForest and Decision Tree Classifier\\n\")\n",
        "\n",
        "models = [ RandomForestClassifier(), DecisionTreeClassifier(), GradientBoostingClassifier(), MLPClassifier(), LogisticRegression()]\n",
        "      \n",
        "S_Train, S_Test = stacking(models,                   \n",
        "                           X_train, y_train, X_test,   \n",
        "                           regression=False, \n",
        "     \n",
        "                           mode='oof_pred_bag', \n",
        "       \n",
        "                           needs_proba=False,\n",
        "         \n",
        "                           save_dir=None, \n",
        "            \n",
        "                           metric=accuracy_score, \n",
        "    \n",
        "                           n_folds=4, \n",
        "                 \n",
        "                           stratified=True,\n",
        "            \n",
        "                           shuffle=True,  \n",
        "            \n",
        "                           random_state=0,    \n",
        "         \n",
        "                           verbose=2)"
      ],
      "execution_count": null,
      "outputs": [
        {
          "output_type": "stream",
          "text": [
            "___________________________________________________________________________________________\n",
            "Ensemble Methods Predictions using GradientBoosting, KNeighborsClassifier, LogisticRegression RandomForest and Decision Tree Classifier\n",
            "\n",
            "task:         [classification]\n",
            "n_classes:    [2]\n",
            "metric:       [accuracy_score]\n",
            "mode:         [oof_pred_bag]\n",
            "n_models:     [5]\n",
            "\n",
            "model  0:     [RandomForestClassifier]\n",
            "    fold  0:  [0.91780822]\n",
            "    fold  1:  [0.93127148]\n",
            "    fold  2:  [0.92783505]\n",
            "    fold  3:  [0.90378007]\n",
            "    ----\n",
            "    MEAN:     [0.92017370] + [0.01067946]\n",
            "    FULL:     [0.92017167]\n",
            "\n",
            "model  1:     [DecisionTreeClassifier]\n",
            "    fold  0:  [0.85616438]\n",
            "    fold  1:  [0.91065292]\n",
            "    fold  2:  [0.93127148]\n",
            "    fold  3:  [0.88659794]\n",
            "    ----\n",
            "    MEAN:     [0.89617168] + [0.02799081]\n",
            "    FULL:     [0.89613734]\n",
            "\n",
            "model  2:     [GradientBoostingClassifier]\n",
            "    fold  0:  [0.92465753]\n",
            "    fold  1:  [0.92783505]\n",
            "    fold  2:  [0.92783505]\n",
            "    fold  3:  [0.91065292]\n",
            "    ----\n",
            "    MEAN:     [0.92274514] + [0.00710094]\n",
            "    FULL:     [0.92274678]\n",
            "\n",
            "model  3:     [MLPClassifier]\n",
            "    fold  0:  [0.89383562]\n",
            "    fold  1:  [0.88316151]\n",
            "    fold  2:  [0.89003436]\n",
            "    fold  3:  [0.85567010]\n",
            "    ----\n",
            "    MEAN:     [0.88067540] + [0.01493509]\n",
            "    FULL:     [0.88068670]\n",
            "\n",
            "model  4:     [LogisticRegression]\n",
            "    fold  0:  [0.87328767]\n",
            "    fold  1:  [0.85223368]\n",
            "    fold  2:  [0.86597938]\n",
            "    fold  3:  [0.87972509]\n",
            "    ----\n",
            "    MEAN:     [0.86780645] + [0.01022188]\n",
            "    FULL:     [0.86781116]\n",
            "\n"
          ],
          "name": "stdout"
        }
      ]
    },
    {
      "cell_type": "code",
      "metadata": {
        "id": "-kGCHGTaiGTb",
        "colab": {
          "base_uri": "https://localhost:8080/",
          "height": 649
        },
        "outputId": "128f0ced-d2bf-4168-e6b4-e90e47682df8"
      },
      "source": [
        "#STACKING - CONTRUCT A RANDOM FOREST MODEL==============================\n",
        "model = RandomForestClassifier()\n",
        "    \n",
        "model = model.fit(S_Train, y_train)\n",
        "y_pred = model.predict(S_Test)\n",
        "\n",
        "models_metrics.append([\"Stacked\", accuracy_score(y_test,y_pred), f1_score(y_test,y_pred),roc_auc_score(y_test,y_pred), recall_score(y_test,y_pred), precision_score(y_test,y_pred)])\n",
        "print(\"All Accuracy Scores\")\n",
        "print(\"accuracy Score for Decision Tree:{0:6f}\".format(accuracy_score(y_test,y_pred)))\n",
        "print(\"Confusion Matrix:\")\n",
        "print(confusion_matrix(y_test, y_pred))\n",
        "print(\"Classification Report\")\n",
        "print(classification_report(y_test,y_pred))\n",
        "print(\"AUC_Score-\", roc_auc_score(y_test,y_pred))\n",
        "print('\\n')\n",
        "print('\\n')\n",
        "\n",
        "plot_confusion_matrix(confusion_matrix(y_test,clf_predict), cmap='Paired')"
      ],
      "execution_count": null,
      "outputs": [
        {
          "output_type": "stream",
          "text": [
            "All Accuracy Scores\n",
            "accuracy Score for Decision Tree:0.922284\n",
            "Confusion Matrix:\n",
            "[[1067    2]\n",
            " [  96   96]]\n",
            "Classification Report\n",
            "              precision    recall  f1-score   support\n",
            "\n",
            "           0       0.92      1.00      0.96      1069\n",
            "           1       0.98      0.50      0.66       192\n",
            "\n",
            "    accuracy                           0.92      1261\n",
            "   macro avg       0.95      0.75      0.81      1261\n",
            "weighted avg       0.93      0.92      0.91      1261\n",
            "\n",
            "AUC_Score- 0.7490645463049579\n",
            "\n",
            "\n",
            "\n",
            "\n"
          ],
          "name": "stdout"
        },
        {
          "output_type": "execute_result",
          "data": {
            "text/plain": [
              "(<Figure size 432x288 with 1 Axes>,\n",
              " <matplotlib.axes._subplots.AxesSubplot at 0x7ff72a6c4eb8>)"
            ]
          },
          "metadata": {
            "tags": []
          },
          "execution_count": 200
        },
        {
          "output_type": "display_data",
          "data": {
            "image/png": "[encoded data removed]",
            "text/plain": [
              "<Figure size 432x288 with 1 Axes>"
            ]
          },
          "metadata": {
            "tags": [],
            "needs_background": "light"
          }
        }
      ]
    },
    {
      "cell_type": "code",
      "metadata": {
        "colab": {
          "base_uri": "https://localhost:8080/",
          "height": 666
        },
        "id": "CptocPSllIwc",
        "outputId": "606e4522-4b53-43de-b061-4474e419f675"
      },
      "source": [
        "#STACKING - CONTRUCT A RANDOM FOREST MODEL==============================\n",
        "\n",
        "rf=RandomForestClassifier()\n",
        "rand_parameters={'min_samples_leaf' : range(10,100,10),'max_depth': \n",
        "            range(1,10,2),'n_estimators':[20,30,40]}\n",
        "rf_random = RandomizedSearchCV(rf,rand_parameters,n_iter=25,cv=5)\n",
        "model = rf_random.fit(S_Train, y_train)\n",
        "y_pred = model.predict(S_Test)\n",
        "grid_parm=rf_random.best_params_\n",
        "print(grid_parm)\n",
        "\n",
        "models_metrics.append([\"Stacked_hpt\", accuracy_score(y_test,y_pred), f1_score(y_test,y_pred),roc_auc_score(y_test,y_pred), recall_score(y_test,y_pred), precision_score(y_test,y_pred)])\n",
        "print(\"All Accuracy Scores\")\n",
        "print(\"accuracy Score for Decision Tree:{0:6f}\".format(accuracy_score(y_test,y_pred)))\n",
        "print(\"Confusion Matrix:\")\n",
        "print(confusion_matrix(y_test, y_pred))\n",
        "print(\"Classification Report\")\n",
        "print(classification_report(y_test,y_pred))\n",
        "print(\"AUC_Score-\", roc_auc_score(y_test,y_pred))\n",
        "print('\\n')\n",
        "print('\\n')\n",
        "\n",
        "plot_confusion_matrix(confusion_matrix(y_test,clf_predict), cmap='Paired')"
      ],
      "execution_count": null,
      "outputs": [
        {
          "output_type": "stream",
          "text": [
            "{'n_estimators': 40, 'min_samples_leaf': 20, 'max_depth': 7}\n",
            "All Accuracy Scores\n",
            "accuracy Score for Decision Tree:0.920698\n",
            "Confusion Matrix:\n",
            "[[1068    1]\n",
            " [  99   93]]\n",
            "Classification Report\n",
            "              precision    recall  f1-score   support\n",
            "\n",
            "           0       0.92      1.00      0.96      1069\n",
            "           1       0.99      0.48      0.65       192\n",
            "\n",
            "    accuracy                           0.92      1261\n",
            "   macro avg       0.95      0.74      0.80      1261\n",
            "weighted avg       0.93      0.92      0.91      1261\n",
            "\n",
            "AUC_Score- 0.7417197731524788\n",
            "\n",
            "\n",
            "\n",
            "\n"
          ],
          "name": "stdout"
        },
        {
          "output_type": "execute_result",
          "data": {
            "text/plain": [
              "(<Figure size 432x288 with 1 Axes>,\n",
              " <matplotlib.axes._subplots.AxesSubplot at 0x7ff72a6c8860>)"
            ]
          },
          "metadata": {
            "tags": []
          },
          "execution_count": 201
        },
        {
          "output_type": "display_data",
          "data": {
            "image/png": "[encoded data removed]",
            "text/plain": [
              "<Figure size 432x288 with 1 Axes>"
            ]
          },
          "metadata": {
            "tags": [],
            "needs_background": "light"
          }
        }
      ]
    },
    {
      "cell_type": "code",
      "metadata": {
        "colab": {
          "base_uri": "https://localhost:8080/",
          "height": 262
        },
        "id": "uKL8xhuUwiqN",
        "outputId": "8e7a0de4-fad0-426a-8696-16094453eb51"
      },
      "source": [
        "print(models_metrics)\n",
        "pd.DataFrame(models_metrics, columns=['Classifiers','accuracy_score', 'f1_score','roc_auc_score', 'recall_score', 'precision_score'])"
      ],
      "execution_count": null,
      "outputs": [
        {
          "output_type": "stream",
          "text": [
            "[['DT', 0.9072164948453608, 0.6740947075208914, 0.7935887316806985, 0.6302083333333334, 0.7245508982035929], ['MLP', 0.865979381443299, 0.3424124513618677, 0.6047610695353913, 0.22916666666666666, 0.676923076923077], ['RF', 0.9119746233148295, 0.5963636363636363, 0.7130739398191456, 0.4270833333333333, 0.9879518072289156], ['GB', 0.9270420301348137, 0.710691823899371, 0.7881903843155597, 0.5885416666666666, 0.8968253968253969], ['Stacked', 0.922283901665345, 0.6620689655172414, 0.7490645463049579, 0.5, 0.9795918367346939], ['Stacked_hpt', 0.9206978588421887, 0.6503496503496503, 0.7417197731524788, 0.484375, 0.9893617021276596]]\n"
          ],
          "name": "stdout"
        },
        {
          "output_type": "execute_result",
          "data": {
            "text/html": [
              "<div>\n",
              "<style scoped>\n",
              "    .dataframe tbody tr th:only-of-type {\n",
              "        vertical-align: middle;\n",
              "    }\n",
              "\n",
              "    .dataframe tbody tr th {\n",
              "        vertical-align: top;\n",
              "    }\n",
              "\n",
              "    .dataframe thead th {\n",
              "        text-align: right;\n",
              "    }\n",
              "</style>\n",
              "<table border=\"1\" class=\"dataframe\">\n",
              "  <thead>\n",
              "    <tr style=\"text-align: right;\">\n",
              "      <th></th>\n",
              "      <th>Classifiers</th>\n",
              "      <th>accuracy_score</th>\n",
              "      <th>f1_score</th>\n",
              "      <th>roc_auc_score</th>\n",
              "      <th>recall_score</th>\n",
              "      <th>precision_score</th>\n",
              "    </tr>\n",
              "  </thead>\n",
              "  <tbody>\n",
              "    <tr>\n",
              "      <th>0</th>\n",
              "      <td>DT</td>\n",
              "      <td>0.907216</td>\n",
              "      <td>0.674095</td>\n",
              "      <td>0.793589</td>\n",
              "      <td>0.630208</td>\n",
              "      <td>0.724551</td>\n",
              "    </tr>\n",
              "    <tr>\n",
              "      <th>1</th>\n",
              "      <td>MLP</td>\n",
              "      <td>0.865979</td>\n",
              "      <td>0.342412</td>\n",
              "      <td>0.604761</td>\n",
              "      <td>0.229167</td>\n",
              "      <td>0.676923</td>\n",
              "    </tr>\n",
              "    <tr>\n",
              "      <th>2</th>\n",
              "      <td>RF</td>\n",
              "      <td>0.911975</td>\n",
              "      <td>0.596364</td>\n",
              "      <td>0.713074</td>\n",
              "      <td>0.427083</td>\n",
              "      <td>0.987952</td>\n",
              "    </tr>\n",
              "    <tr>\n",
              "      <th>3</th>\n",
              "      <td>GB</td>\n",
              "      <td>0.927042</td>\n",
              "      <td>0.710692</td>\n",
              "      <td>0.788190</td>\n",
              "      <td>0.588542</td>\n",
              "      <td>0.896825</td>\n",
              "    </tr>\n",
              "    <tr>\n",
              "      <th>4</th>\n",
              "      <td>Stacked</td>\n",
              "      <td>0.922284</td>\n",
              "      <td>0.662069</td>\n",
              "      <td>0.749065</td>\n",
              "      <td>0.500000</td>\n",
              "      <td>0.979592</td>\n",
              "    </tr>\n",
              "    <tr>\n",
              "      <th>5</th>\n",
              "      <td>Stacked_hpt</td>\n",
              "      <td>0.920698</td>\n",
              "      <td>0.650350</td>\n",
              "      <td>0.741720</td>\n",
              "      <td>0.484375</td>\n",
              "      <td>0.989362</td>\n",
              "    </tr>\n",
              "  </tbody>\n",
              "</table>\n",
              "</div>"
            ],
            "text/plain": [
              "   Classifiers  accuracy_score  ...  recall_score  precision_score\n",
              "0           DT        0.907216  ...      0.630208         0.724551\n",
              "1          MLP        0.865979  ...      0.229167         0.676923\n",
              "2           RF        0.911975  ...      0.427083         0.987952\n",
              "3           GB        0.927042  ...      0.588542         0.896825\n",
              "4      Stacked        0.922284  ...      0.500000         0.979592\n",
              "5  Stacked_hpt        0.920698  ...      0.484375         0.989362\n",
              "\n",
              "[6 rows x 6 columns]"
            ]
          },
          "metadata": {
            "tags": []
          },
          "execution_count": 202
        }
      ]
    }
  ]
}